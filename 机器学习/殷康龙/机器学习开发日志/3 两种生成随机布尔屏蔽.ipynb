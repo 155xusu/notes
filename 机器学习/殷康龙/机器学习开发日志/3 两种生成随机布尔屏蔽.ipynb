{
 "metadata": {
  "language_info": {
   "codemirror_mode": {
    "name": "ipython",
    "version": 3
   },
   "file_extension": ".py",
   "mimetype": "text/x-python",
   "name": "python",
   "nbconvert_exporter": "python",
   "pygments_lexer": "ipython3",
   "version": "3.7.3-final"
  },
  "orig_nbformat": 2,
  "kernelspec": {
   "name": "python3",
   "display_name": "Python 3.7.3 64-bit (conda)",
   "metadata": {
    "interpreter": {
     "hash": "7b4b4feff2f24a0f0a34464dbe537a36fda679851528fb8735cb41fa49dffb2d"
    }
   }
  }
 },
 "nbformat": 4,
 "nbformat_minor": 2,
 "cells": [
  {
   "source": [
    "## 1 np.ranoom.choice"
   ],
   "cell_type": "markdown",
   "metadata": {}
  },
  {
   "cell_type": "code",
   "execution_count": 2,
   "metadata": {},
   "outputs": [
    {
     "output_type": "stream",
     "name": "stdout",
     "text": [
      "[[ True False  True  True]\n [ True  True False False]\n [ True  True  True  True]]\n"
     ]
    }
   ],
   "source": [
    "import numpy as np \n",
    "mask = np.random.choice([True,False],p=[.75,.25],size=[3,4])\n",
    "print(mask)"
   ]
  },
  {
   "cell_type": "code",
   "execution_count": 5,
   "metadata": {},
   "outputs": [
    {
     "output_type": "stream",
     "name": "stdout",
     "text": [
      "[[ True  True  True False]\n [ True  True False  True]\n [ True False False False]]\n"
     ]
    }
   ],
   "source": [
    "mask = np.random.binomial(n=1,p=0.3,size=[3,4]).astype(bool)\n",
    "print(mask)"
   ]
  }
 ]
}