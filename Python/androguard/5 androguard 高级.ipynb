{
 "cells": [
  {
   "cell_type": "markdown",
   "metadata": {},
   "source": [
    "## 1 使用会话\n",
    "\n",
    "### 会话的目的\n",
    "1. 同一时间加载大量的apk用于后续分析工作\n",
    "2. 将当前分析出来的内容保存到磁盘上进行持久化，后续加载进行分析。\n",
    "\n",
    "### 使用教程"
   ]
  },
  {
   "cell_type": "code",
   "execution_count": 1,
   "metadata": {},
   "outputs": [
    {
     "name": "stdout",
     "output_type": "stream",
     "text": [
      "APKs in Session: 1\n",
      "\t00c8de6b31090c32b65f8c30d7227488d2bce5353b31bedf5461419ff463072d: [<androguard.core.bytecodes.apk.APK object at 0x7f54d41fc6d0>]\n",
      "DEXs in Session: 1\n",
      "\t91e949e16b99523c80a8a345907b9525cb7dc8fab5bd2e048558ff582363c8df: <androguard.core.bytecodes.dvm.DalvikVMFormat object at 0x7f54b57d49a0>\n",
      "Analysis in Session: 2\n",
      "\t00c8de6b31090c32b65f8c30d7227488d2bce5353b31bedf5461419ff463072d: <analysis.Analysis VMs: 1, Classes: 97, Strings: 112>\n",
      "\t91e949e16b99523c80a8a345907b9525cb7dc8fab5bd2e048558ff582363c8df: <analysis.Analysis VMs: 1, Classes: 97, Strings: 112>\n"
     ]
    }
   ],
   "source": [
    "from androguard import misc\n",
    "from androguard import session\n",
    "\n",
    "# get a default session\n",
    "sess = misc.get_default_session()\n",
    "\n",
    "# Use the session\n",
    "a, d, dx = misc.AnalyzeAPK(\"apk/2.apk\", session=sess)\n",
    "\n",
    "# Show the current Session information\n",
    "sess.show()\n",
    "\n",
    "# Do stuff...\n",
    "\n",
    "# Save the session to disk\n",
    "session.Save(sess, \"androguard_session.ag\")\n",
    "\n",
    "# Load it again\n",
    "sess = session.Load(\"androguard_session.ag\")"
   ]
  },
  {
   "cell_type": "code",
   "execution_count": 4,
   "metadata": {},
   "outputs": [
    {
     "name": "stdout",
     "output_type": "stream",
     "text": [
      "APKs in Session: 1\n",
      "\t00ceaa5f8f9be7a9ce5ffe96b5b6fb2e7e73ad87c2f023db9fa399c40ac59b62: [<androguard.core.bytecodes.apk.APK object at 0x7f54d41c90d0>]\n",
      "DEXs in Session: 1\n",
      "\t778391a68ef9f48c228e90afd530dfb456e1ded416bbae05047f6700715eebe4: <androguard.core.bytecodes.dvm.DalvikVMFormat object at 0x7f54d41fccd0>\n",
      "Analysis in Session: 2\n",
      "\t00ceaa5f8f9be7a9ce5ffe96b5b6fb2e7e73ad87c2f023db9fa399c40ac59b62: <analysis.Analysis VMs: 1, Classes: 1151, Strings: 1994>\n",
      "\t778391a68ef9f48c228e90afd530dfb456e1ded416bbae05047f6700715eebe4: <analysis.Analysis VMs: 1, Classes: 1151, Strings: 1994>\n",
      "androguard_session_2021-12-15_152620.ag\n"
     ]
    }
   ],
   "source": [
    "from androguard.session import Session\n",
    "\n",
    "s = Session()\n",
    "sha256 = s.add(\"apk/3.apk\")\n",
    "\n",
    "a, d, dx = s.get_objects_apk(digest=sha256)\n",
    "\n",
    "s.show()\n",
    "\n",
    "# When no filename is given, the Session will be saved at the current directory\n",
    "saved_file = s.save()\n",
    "# ... and return the filename of the Session file\n",
    "print(saved_file)"
   ]
  },
  {
   "cell_type": "markdown",
   "metadata": {},
   "source": [
    "> 建议不要在自动化环境中使用会话，在这种环境中加载了成百上千的 APK。"
   ]
  },
  {
   "cell_type": "markdown",
   "metadata": {},
   "source": [
    "## 2 使用JADX作为反编译器\n",
    "\n",
    "androidguard提供了不同的反编译器。\n",
    "\n",
    "## 3 Android签名的证书\n",
    "\n",
    "感觉这个似乎并不是很有用。记得在看过的文章中将此类android分类方法视为提取外部信息。\n"
   ]
  },
  {
   "cell_type": "markdown",
   "metadata": {},
   "source": [
    "## 4 XML和resource文件的解析\n",
    "resources.arsc. 底层格式是基于块的，能够存储多种不同的信息。\n",
    "\n",
    "最常见的 AXML 文件是AndroidManifest.xml. 该文件必须是每个 APK 的一部分，并包含有关包的元信息。\n",
    "\n",
    "Androguard 能够解码此类文件，并且存在两种不同的解码工具：\n",
    "\n",
    "* androguard arsc用于解码resources.arsc。\n",
    "\n",
    "* androguard axml用于解码AndroidManifest.xml和所有其他 XML 文件\n"
   ]
  },
  {
   "cell_type": "markdown",
   "metadata": {},
   "source": [
    "### manifest文件解析\n",
    "```xml\n",
    "ykl@ykl-OptiPlex-3070:~/gitee/notes/Python/androguard/apk$ androguard axml 4.apk\n",
    "<manifest xmlns:android=\"http://schemas.android.com/apk/res/android\" android:versionCode=\"5\" android:versionName=\"1.1.5\" package=\"ru.atools.sytrant\">\n",
    "  <application android:label=\"@7F040000\" android:icon=\"@7F020001\">\n",
    "    <meta-data android:name=\"ADMOB_PUBLISHER_ID\" android:value=\"a14bb4ac80ceddc\"/>\n",
    "    <activity android:theme=\"@android:01030006\" android:label=\"@7F040000\" android:name=\".Sytrant\" android:configChanges=\"0x000000A0\">\n",
    "      <intent-filter>\n",
    "        <action android:name=\"android.intent.action.MAIN\"/>\n",
    "        <category android:name=\"android.intent.category.LAUNCHER\"/>\n",
    "      </intent-filter>\n",
    "    </activity>\n",
    "    <activity android:theme=\"@android:0103000B\" android:label=\"@7F040008\" android:name=\".About\"/>\n",
    "    <activity android:label=\"@7F04000B\" android:name=\".Settings\"/>\n",
    "    <service android:name=\".SyncService\"/>\n",
    "    <receiver android:name=\".BootUpReceiver\" android:permission=\"android.permission.RECEIVE_BOOT_COMPLETED\" android:enabled=\"true\">\n",
    "      <intent-filter>\n",
    "        <action android:name=\"android.intent.action.BOOT_COMPLETED\"/>\n",
    "        <category android:name=\"android.intent.category.DEFAULT\"/>\n",
    "      </intent-filter>\n",
    "    </receiver>\n",
    "    <service android:name=\".UpdateCheck\"/>\n",
    "    <meta-data android:name=\"MYAD_PID\" android:value=\"SSsytrant\"/>\n",
    "  </application>\n",
    "  <uses-permission android:name=\"android.permission.INTERNET\"/>\n",
    "  <uses-permission android:name=\"android.permission.ACCESS_NETWORK_STATE\"/>\n",
    "  <uses-permission android:name=\"android.permission.ACCESS_WIFI_STATE\"/>\n",
    "  <uses-permission android:name=\"android.permission.READ_PHONE_STATE\"/>\n",
    "  <uses-permission android:name=\"android.permission.ACCESS_COARSE_LOCATION\"/>\n",
    "  <uses-sdk android:minSdkVersion=\"3\"/>\n",
    "  <supports-screens android:anyDensity=\"true\" android:smallScreens=\"true\" android:normalScreens=\"true\" android:largeScreens=\"true\" android:resizeable=\"true\"/>\n",
    "  <uses-permission android:name=\"android.permission.ACCESS_FINE_LOCATION\"/>\n",
    "  <uses-permission android:name=\"android.permission.RECEIVE_BOOT_COMPLETED\"/>\n",
    "</manifest>\n",
    "\n",
    "```"
   ]
  },
  {
   "cell_type": "markdown",
   "metadata": {},
   "source": [
    "### resource文件解析\n",
    "```xml\n",
    "ykl@ykl-OptiPlex-3070:~/gitee/notes/Python/androguard/apk$ androguard arsc 4.apk\n",
    "<resources>\n",
    "<public type=\"attr\" name=\"placement\" id=\"0x7f010000\"/>\n",
    "<public type=\"attr\" name=\"mediaType\" id=\"0x7f010001\"/>\n",
    "<public type=\"attr\" name=\"displayMode\" id=\"0x7f010002\"/>\n",
    "<public type=\"attr\" name=\"adInterval\" id=\"0x7f010003\"/>\n",
    "<public type=\"attr\" name=\"animation\" id=\"0x7f010004\"/>\n",
    "<public type=\"attr\" name=\"siteId\" id=\"0x7f010005\"/>\n",
    "<public type=\"attr\" name=\"publisherId\" id=\"0x7f010006\"/>\n",
    "<public type=\"attr\" name=\"defaultAdImage\" id=\"0x7f010007\"/>\n",
    "<public type=\"attr\" name=\"defaultAdClickThru\" id=\"0x7f010008\"/>\n",
    "<public type=\"attr\" name=\"section\" id=\"0x7f010009\"/>\n",
    "<public type=\"attr\" name=\"adEventListenerClass\" id=\"0x7f01000a\"/>\n",
    "<public type=\"attr\" name=\"testMode\" id=\"0x7f01000b\"/>\n",
    "<public type=\"attr\" name=\"renderAdOnCreate\" id=\"0x7f01000c\"/>\n",
    "<public type=\"attr\" name=\"requestMode\" id=\"0x7f01000d\"/>\n",
    "<public type=\"attr\" name=\"bgColor\" id=\"0x7f01000e\"/>\n",
    "<public type=\"attr\" name=\"textColor\" id=\"0x7f01000f\"/>\n",
    "<public type=\"attr\" name=\"backgroundColor\" id=\"0x7f010010\"/>\n",
    "<public type=\"attr\" name=\"primaryTextColor\" id=\"0x7f010011\"/>\n",
    "<public type=\"attr\" name=\"secondaryTextColor\" id=\"0x7f010012\"/>\n",
    "<public type=\"attr\" name=\"keywords\" id=\"0x7f010013\"/>\n",
    "<public type=\"attr\" name=\"refreshInterval\" id=\"0x7f010014\"/>\n",
    "<public type=\"drawable\" name=\"icon\" id=\"0x7f020001\"/>\n",
    "<public type=\"drawable\" name=\"bg\" id=\"0x7f020000\"/>\n",
    "<public type=\"drawable\" name=\"icon\" id=\"0x7f020001\"/>\n",
    "<public type=\"drawable\" name=\"icon\" id=\"0x7f020001\"/>\n",
    "<public type=\"layout\" name=\"about\" id=\"0x7f030000\"/>\n",
    "<public type=\"layout\" name=\"main\" id=\"0x7f030001\"/>\n",
    "<public type=\"layout\" name=\"settings\" id=\"0x7f030002\"/>\n",
    "<public type=\"layout\" name=\"main\" id=\"0x7f030001\"/>\n",
    "<public type=\"string\" name=\"app_name\" id=\"0x7f040000\"/>\n",
    "<public type=\"string\" name=\"server_address\" id=\"0x7f040001\"/>\n",
    "<public type=\"string\" name=\"gmt_label\" id=\"0x7f040002\"/>\n",
    "<public type=\"string\" name=\"gmt_offset\" id=\"0x7f040003\"/>\n",
    "<public type=\"string\" name=\"minutes_label\" id=\"0x7f040004\"/>\n",
    "<public type=\"string\" name=\"log_start_message\" id=\"0x7f040005\"/>\n",
    "<public type=\"string\" name=\"start_button_label\" id=\"0x7f040006\"/>\n",
    "<public type=\"string\" name=\"about_text\" id=\"0x7f040007\"/>\n",
    "<public type=\"string\" name=\"about_title\" id=\"0x7f040008\"/>\n",
    "<public type=\"string\" name=\"about_menu_label\" id=\"0x7f040009\"/>\n",
    "<public type=\"string\" name=\"settings_menu_label\" id=\"0x7f04000a\"/>\n",
    "<public type=\"string\" name=\"settings_title\" id=\"0x7f04000b\"/>\n",
    "<public type=\"string\" name=\"exit_menu_label\" id=\"0x7f04000c\"/>\n",
    "<public type=\"string\" name=\"server_settings_label\" id=\"0x7f04000d\"/>\n",
    "<public type=\"string\" name=\"port_settings_label\" id=\"0x7f04000e\"/>\n",
    "<public type=\"string\" name=\"update_interval_label\" id=\"0x7f04000f\"/>\n",
    "<public type=\"string\" name=\"gmtoffset_minus_label\" id=\"0x7f040010\"/>\n",
    "<public type=\"string\" name=\"save_settings_dialog_title\" id=\"0x7f040011\"/>\n",
    "<public type=\"string\" name=\"save_settings_dialog_message\" id=\"0x7f040012\"/>\n",
    "<public type=\"string\" name=\"yes_button_title\" id=\"0x7f040013\"/>\n",
    "<public type=\"string\" name=\"no_button_title\" id=\"0x7f040014\"/>\n",
    "<public type=\"string\" name=\"cancel_button_title\" id=\"0x7f040015\"/>\n",
    "<public type=\"string\" name=\"autosync_enable_title\" id=\"0x7f040016\"/>\n",
    "<public type=\"string\" name=\"autosync_autostart_title\" id=\"0x7f040017\"/>\n",
    "<public type=\"string\" name=\"setdefaults_button_title\" id=\"0x7f040018\"/>\n",
    "<public type=\"string\" name=\"log_error_start_sync_message\" id=\"0x7f040019\"/>\n",
    "<public type=\"string\" name=\"log_start_sync_message\" id=\"0x7f04001a\"/>\n",
    "<public type=\"string\" name=\"log_adjusting\" id=\"0x7f04001b\"/>\n",
    "<public type=\"string\" name=\"log_analyzing\" id=\"0x7f04001c\"/>\n",
    "<public type=\"string\" name=\"log_connecting\" id=\"0x7f04001d\"/>\n",
    "<public type=\"string\" name=\"log_gettime_error\" id=\"0x7f04001e\"/>\n",
    "<public type=\"string\" name=\"log_finished_sync\" id=\"0x7f04001f\"/>\n",
    "<public type=\"string\" name=\"log_seconds\" id=\"0x7f040020\"/>\n",
    "<public type=\"string\" name=\"log_minutes\" id=\"0x7f040021\"/>\n",
    "<public type=\"string\" name=\"log_milliseconds\" id=\"0x7f040022\"/>\n",
    "<public type=\"string\" name=\"log_network_latency\" id=\"0x7f040023\"/>\n",
    "<public type=\"string\" name=\"log_settime_error\" id=\"0x7f040024\"/>\n",
    "<public type=\"string\" name=\"log_time_change\" id=\"0x7f040025\"/>\n",
    "<public type=\"string\" name=\"log_unknown_response\" id=\"0x7f040026\"/>\n",
    "<public type=\"string\" name=\"log_finished_sync2\" id=\"0x7f040027\"/>\n",
    "<public type=\"string\" name=\"autosync_enabled_toast\" id=\"0x7f040028\"/>\n",
    "<public type=\"string\" name=\"autosync_disabled_toast\" id=\"0x7f040029\"/>\n",
    "<public type=\"string\" name=\"gmtoffset_daylightsaving_label\" id=\"0x7f04002a\"/>\n",
    "<public type=\"menu\" name=\"menu\" id=\"0x7f050000\"/>\n",
    "<public type=\"id\" name=\"log_scrollview1\" id=\"0x7f060000\"/>\n",
    "<public type=\"id\" name=\"TextView01\" id=\"0x7f060001\"/>\n",
    "<public type=\"id\" name=\"server_textview\" id=\"0x7f060002\"/>\n",
    "<public type=\"id\" name=\"gmt_textview\" id=\"0x7f060003\"/>\n",
    "<public type=\"id\" name=\"log_scrollview\" id=\"0x7f060004\"/>\n",
    "<public type=\"id\" name=\"log_textview\" id=\"0x7f060005\"/>\n",
    "<public type=\"id\" name=\"sync_button\" id=\"0x7f060006\"/>\n",
    "<public type=\"id\" name=\"adMob\" id=\"0x7f060007\"/>\n",
    "<public type=\"id\" name=\"QWAd\" id=\"0x7f060008\"/>\n",
    "<public type=\"id\" name=\"ScrollView01\" id=\"0x7f060009\"/>\n",
    "<public type=\"id\" name=\"server_edittext\" id=\"0x7f06000a\"/>\n",
    "<public type=\"id\" name=\"TextView02\" id=\"0x7f06000b\"/>\n",
    "<public type=\"id\" name=\"port_edittext\" id=\"0x7f06000c\"/>\n",
    "<public type=\"id\" name=\"TextView03\" id=\"0x7f06000d\"/>\n",
    "<public type=\"id\" name=\"gmt_daylight_checkbox\" id=\"0x7f06000e\"/>\n",
    "<public type=\"id\" name=\"gmt_negative_checkbox\" id=\"0x7f06000f\"/>\n",
    "<public type=\"id\" name=\"gmt_timepicker\" id=\"0x7f060010\"/>\n",
    "<public type=\"id\" name=\"TextView04\" id=\"0x7f060011\"/>\n",
    "<public type=\"id\" name=\"autosync_layout\" id=\"0x7f060012\"/>\n",
    "<public type=\"id\" name=\"autosync_enable_checkbox\" id=\"0x7f060013\"/>\n",
    "<public type=\"id\" name=\"autosync_autostart_checkbox\" id=\"0x7f060014\"/>\n",
    "<public type=\"id\" name=\"autosync_timepicker\" id=\"0x7f060015\"/>\n",
    "<public type=\"id\" name=\"setdefaults_button\" id=\"0x7f060016\"/>\n",
    "<public type=\"id\" name=\"settings_menu_item\" id=\"0x7f060017\"/>\n",
    "<public type=\"id\" name=\"about_menu_item\" id=\"0x7f060018\"/>\n",
    "<public type=\"id\" name=\"exit_menu_item\" id=\"0x7f060019\"/>\n",
    "</resources>\n",
    "```"
   ]
  },
  {
   "cell_type": "markdown",
   "metadata": {},
   "source": [
    "## 6 批量分析\n",
    "\n",
    "1. 自己手写多线程就好了。、\n",
    "2. 使用androauto也可以\n",
    "\n"
   ]
  },
  {
   "cell_type": "markdown",
   "metadata": {},
   "source": [
    "## 7 调试损坏的APK"
   ]
  },
  {
   "cell_type": "markdown",
   "metadata": {},
   "source": [
    "## 8 androguard GUI\n",
    "\n",
    "一个图形界面系统，只能展示最简单的信息，但是有助于理解分析内容"
   ]
  },
  {
   "cell_type": "markdown",
   "metadata": {},
   "source": []
  }
 ],
 "metadata": {
  "interpreter": {
   "hash": "6166d1592bf002ea476aa46ec8b9d5902134a5387368bb80238f621c412f8518"
  },
  "kernelspec": {
   "display_name": "Python 3.8.10 64-bit ('pytorch': virtualenv)",
   "language": "python",
   "name": "python3"
  },
  "language_info": {
   "codemirror_mode": {
    "name": "ipython",
    "version": 3
   },
   "file_extension": ".py",
   "mimetype": "text/x-python",
   "name": "python",
   "nbconvert_exporter": "python",
   "pygments_lexer": "ipython3",
   "version": "3.8.10"
  },
  "orig_nbformat": 4
 },
 "nbformat": 4,
 "nbformat_minor": 2
}
