{
 "cells": [
  {
   "cell_type": "markdown",
   "metadata": {},
   "source": [
    "## 1 调用逻辑说明\n",
    "\n",
    "1. python脚本、命令行脚本。\n",
    "2. androguard.cli模块包含各个脚本的python逻辑代码，接受脚本的参数，然后加载androguard.core内容，完成具体的不同的main的操作。如axml_main,arsc_main等。\n",
    "3. androguard.core如果自己定制的内容比较核心的话，可以直接导入该包下的内容进行恶意软件的分析工作。可以进行更细粒度的控制。而不是基于官方给出的main方法进行控制。\n",
    "\n",
    "\n",
    "建议：模仿andorguard中提供的cli命令的main逻辑，直接调用androguard.core中的模块进行恶意软件分析，写成python脚本。"
   ]
  },
  {
   "cell_type": "markdown",
   "metadata": {},
   "source": []
  }
 ],
 "metadata": {
  "language_info": {
   "name": "python"
  },
  "orig_nbformat": 4
 },
 "nbformat": 4,
 "nbformat_minor": 2
}
