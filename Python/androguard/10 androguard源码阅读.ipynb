{
 "cells": [
  {
   "cell_type": "markdown",
   "metadata": {},
   "source": [
    "## 1 调用逻辑说明\n",
    "\n",
    "1. python脚本、命令行脚本。\n",
    "2. androguard.cli模块包含各个脚本的python逻辑代码，接受脚本的参数，然后加载androguard.core内容，完成具体的不同的main的操作。如axml_main,arsc_main等。\n",
    "3. androguard.core如果自己定制的内容比较核心的话，可以直接导入该包下的内容进行恶意软件的分析工作。可以进行更细粒度的控制。而不是基于官方给出的main方法进行控制。\n",
    "\n",
    "\n",
    "建议：模仿andorguard中提供的cli命令的main逻辑，直接调用androguard.core中的模块进行恶意软件分析，写成python脚本。"
   ]
  },
  {
   "cell_type": "markdown",
   "metadata": {},
   "source": []
  },
  {
   "cell_type": "markdown",
   "metadata": {},
   "source": [
    "androguard.core.bytecodes\n",
    "androguard.core.analysis\n",
    "\n",
    "## 对象说明\n",
    "\n",
    "a d dx对象的作用\n",
    "\n",
    "* a对象是apk解包的结果\n",
    "* d对象是dex文件列表反编译的结果\n",
    "* dx对象是dex文件列表交叉引用分析的结果\n",
    "\n",
    "\n",
    "a d dx对象的内容\n",
    "* a对象包含解包后的文件，包含xml，从xml分析得到的基本信息，dex文件，resource文件等，供后续进一步分析\n",
    "* d对象包含反编译dex后的结果，包含类、方法、字符串的列表。其中反编译后的结果是encodemethod、encodeclass、encodefiled、endcodestring对象的列表\n",
    "* dx包含methodAnalysis、ClassAnalysis、FieldAnalysis、StringAnalysis等分析对象的列表"
   ]
  }
 ],
 "metadata": {
  "language_info": {
   "name": "python"
  },
  "orig_nbformat": 4
 },
 "nbformat": 4,
 "nbformat_minor": 2
}
