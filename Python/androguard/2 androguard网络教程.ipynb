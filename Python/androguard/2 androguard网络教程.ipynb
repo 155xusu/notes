{
 "cells": [
  {
   "cell_type": "markdown",
   "metadata": {},
   "source": [
    "## 1 典型应用\n",
    "仅仅到如APK对象，进行简单的内容提取，不需要复杂的分析工作。"
   ]
  },
  {
   "cell_type": "code",
   "execution_count": null,
   "metadata": {},
   "outputs": [],
   "source": [
    "#!/usr/local/python3/bin/python3.6\n",
    " \n",
    "from androguard.core.bytecodes.apk import APK\n",
    "import sys\n",
    " \n",
    "filename = \"\"\n",
    "if len(sys.argv) > 1:\n",
    "    filename = sys.argv[1]\n",
    "if not filename.endswith(\".apk\"):\n",
    "    print(\"error: not a apk file\")\n",
    "    sys.exit(1)\n",
    " \n",
    "a = APK(filename)\n",
    "if a.get_package is not None:\n",
    "    print(\"name=\" +  a.get_package())\n",
    "if a.get_app_name is not None:\n",
    "    print(\"appName=\" +  a.get_app_name())\n",
    "if a.get_target_sdk_version is not None:\n",
    "    print(\"sdkVersion=\" + a.get_target_sdk_version())\n",
    "if a.get_androidversion_code is not None:\n",
    "    print(\"versionCode=\" + a.get_androidversion_code())\n",
    "if a.get_androidversion_code is not None:\n",
    "    print(\"versionName=\" + a.get_androidversion_name())\n",
    "for m in a.get_permissions():\n",
    "    print(\"permission=\" + m)"
   ]
  },
  {
   "cell_type": "markdown",
   "metadata": {},
   "source": [
    "## 2 一个网络教程——作为python的模块使用\n",
    "> 这是一个新版本的应用教程 https://blog.csdn.net/vitA_gsm/article/details/104791870?utm_medium=distribute.pc_aggpage_search_result.none-task-blog-2~aggregatepage~first_rank_ecpm_v1~rank_v31_ecpm-9-104791870.pc_agg_new_rank&utm_term=androguard+python&spm=1000.2123.3001.4430 \n",
    "> \n",
    "> 这是一个老版本的教程，需要手动引入很多库文件。可以完全用这种方式进行分析。 https://blog.csdn.net/ybdesire/article/details/52280303"
   ]
  },
  {
   "cell_type": "code",
   "execution_count": null,
   "metadata": {},
   "outputs": [
    {
     "name": "stdout",
     "output_type": "stream",
     "text": [
      "['1.apk', '2.apk', '3.apk', '4.apk', '5.apk']\n"
     ]
    }
   ],
   "source": [
    "import os\n",
    "# 引入androguard的路径，根据个人存放的位置而定\n",
    "# androguard_module_path = os.path.join( os.path.dirname(os.path.abspath(__file__)), 'androguard' )\n",
    "# androguard_module_path = '/home/ykl/.virtualenvs/pytorch/bin/androguard'\n",
    "\n",
    "# if not androguard_module_path in sys.path:\n",
    "#     sys.path.append(androguard_module_path)\n",
    "    \n",
    "from androguard.misc import AnalyzeAPK\n",
    "from androguard.core.androconf import load_api_specific_resource_module\n",
    "\n",
    "path = \"./apk/\"\n",
    "out_path = \"./out\"\n",
    "files = []\n",
    "path_list=os.listdir(path)\n",
    "path_list.sort()\n",
    "for name in path_list:\n",
    "    if os.path.isfile(os.path.join(path, name)):\n",
    "        files.append(name)\n",
    "print(files)\n"
   ]
  },
  {
   "cell_type": "code",
   "execution_count": null,
   "metadata": {},
   "outputs": [],
   "source": [
    "\n",
    "def main():\n",
    "    for apkfile in files:\n",
    "        file_name = os.path.splitext(apkfile)[0]   \n",
    "        out = AnalyzeAPK(path + '/' + apkfile) \n",
    "        dx = out[2]\n",
    "\n",
    "        #api和权限映射        \n",
    "        api_perm_filename = os.path.join(out_path, file_name + \"_api-perm.txt\")\n",
    "        api_perm_file = open(api_perm_filename, 'w', encoding='utf-8')\n",
    "        permmap = load_api_specific_resource_module('api_permission_mappings')\n",
    "        # print(permmap.items())\n",
    "        results = []\n",
    "        for meth_analysis in dx.get_methods():\n",
    "            meth = meth_analysis.get_method()\n",
    "            name  = meth.get_class_name() + \"-\" + meth.get_name() + \"-\" + str(meth.get_descriptor())       \n",
    "            for k,v in permmap.items():  \n",
    "                if name  == k:\n",
    "                    result = str(meth) + ' : ' + str(v)\n",
    "                    api_perm_file.write(result + '\\n')  \n",
    "        api_perm_file.close()\n",
    "\n",
    "main()"
   ]
  },
  {
   "cell_type": "markdown",
   "metadata": {},
   "source": [
    "## 3 一个网络教程——作为命令行脚本启动\n",
    "> 这是一个使用命令行分析的详细的教程，能够脚本获取自己所需要的内容。 https://blog.csdn.net/qq_40644809/article/details/106814146?utm_medium=distribute.pc_aggpage_search_result.none-task-blog-2~aggregatepage~first_rank_ecpm_v1~rank_v31_ecpm-20-106814146.pc_agg_new_rank&utm_term=androguard+python&spm=1000.2123.3001.4430\n",
    "> \n",
    "> 这是详解a.d.dx.misc.axml.asrc等一系列对象的内置方法的文件。 https://www.jianshu.com/p/079e40800ef4"
   ]
  },
  {
   "cell_type": "markdown",
   "metadata": {},
   "source": [
    "```\n",
    "ykl@ykl-OptiPlex-3070:~/gitee/notes/Python/androguard/apk$ androguard analyze 1.apk\n",
    "Please be patient, this might take a while.\n",
    "Found the provided file is of type 'APK'\n",
    "[INFO    ] androguard.analysis: End of creating cross references (XREF)\n",
    "[INFO    ] androguard.analysis: run time: 0min 00s\n",
    "Added file to session: SHA256::000e0948176bdec2b6e19d0f03e23f37910676a9b7e7709954614bac79269c36\n",
    "Loaded APK file...\n",
    ">>> a\n",
    "<androguard.core.bytecodes.apk.APK object at 0x7fc1d37d73d0>\n",
    ">>> d\n",
    "[<androguard.core.bytecodes.dvm.DalvikVMFormat object at 0x7fc1d225abe0>]\n",
    ">>> dx\n",
    "<analysis.Analysis VMs: 1, Classes: 22, Strings: 2>\n",
    "\n",
    "Androguard version 3.3.5 started\n",
    "In [1]: a\n",
    "Out[1]: <androguard.core.bytecodes.apk.APK at 0x7fc1d37d73d0>\n",
    "\n",
    "In [2]: d\n",
    "Out[2]: [<androguard.core.bytecodes.dvm.DalvikVMFormat at 0x7fc1d225abe0>]\n",
    "\n",
    "In [3]: dx\n",
    "Out[3]: <analysis.Analysis VMs: 1, Classes: 22, Strings: 2>\n",
    "\n",
    "In [4]: a.get_permissions()\n",
    "Out[4]: \n",
    "['android.permission.EXPAND_STATUS_BAR',\n",
    " 'android.permission.ACCESS_NETWORK_STATE',\n",
    " 'android.permission.WRITE_CALENDAR',\n",
    " 'android.permission.GET_ACCOUNTS',\n",
    " 'android.permission.BATTERY_STATS',\n",
    " 'android.permission.INTERNET',\n",
    " 'android.permission.SEND_SMS',\n",
    " 'android.permission.INSTALL_PACKAGES',\n",
    " 'android.permission.WRITE_CONTACTS',\n",
    " 'android.permission.CONTROL_LOCATION_UPDATES',\n",
    " 'android.permission.ACCESS_WIFI_STATE',\n",
    " 'android.permission.READ_LOGS',\n",
    " 'android.permission.READ_FRAME_BUFFER',\n",
    " 'android.permission.READ_CONTACTS',\n",
    " 'android.permission.CAMERA',\n",
    " 'android.permission.SYSTEM_ALERT_WINDOW',\n",
    " 'android.permission.STATUS_BAR',\n",
    " 'com.android.browser.permission.READ_HISTORY_BOOKMARKS',\n",
    " 'android.permission.CHANGE_CONFIGURATION',\n",
    " 'android.permission.VIBRATE',\n",
    " 'android.permission.READ_CALENDAR']\n",
    "```\n"
   ]
  },
  {
   "cell_type": "markdown",
   "metadata": {},
   "source": []
  }
 ],
 "metadata": {
  "interpreter": {
   "hash": "6166d1592bf002ea476aa46ec8b9d5902134a5387368bb80238f621c412f8518"
  },
  "kernelspec": {
   "display_name": "Python 3.8.10 64-bit ('pytorch': virtualenv)",
   "language": "python",
   "name": "python3"
  },
  "language_info": {
   "name": "python",
   "version": "3.8.10"
  },
  "orig_nbformat": 4
 },
 "nbformat": 4,
 "nbformat_minor": 2
}
