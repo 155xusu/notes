{
 "cells": [
  {
   "cell_type": "code",
   "execution_count": 1,
   "metadata": {
    "tags": [
     "parameters"
    ]
   },
   "outputs": [],
   "source": [
    "# Please ignore these variable, they only provide options for our CI system.\n",
    "args = []\n",
    "abort_after_one = False"
   ]
  },
  {
   "cell_type": "markdown",
   "metadata": {},
   "source": [
    "# 教程：使用websockets进行联合学习，并对可能遇到的问题的可能解决方案进行联合平均\n",
    "\n",
    "安装websocket库\n",
    "\n"
   ]
  },
  {
   "cell_type": "markdown",
   "metadata": {},
   "source": [
    "## 1 启动websocket服务工作程序\n",
    "\n",
    "每个工作程序由两部分组成，本地句柄和保存数据并执行计算的远程实例。远程部分称为Websocket服务器工作程序。\n",
    "\n",
    "因此，首先，您需要转到cd此笔记本以及其他用于运行服务器和客户端的其他文件所在的文件夹\n",
    "\n",
    "需要在终端中运行以下命令。\n",
    "\n",
    "```bash\n",
    "python start_websocket_servers.py\n",
    "```"
   ]
  },
  {
   "cell_type": "markdown",
   "metadata": {},
   "source": [
    "## 2 设置websocket客户端工作程序\n",
    "\n",
    "导入并设置一些参数和变量。"
   ]
  },
  {
   "cell_type": "code",
   "execution_count": 2,
   "metadata": {},
   "outputs": [],
   "source": [
    "%load_ext autoreload\n",
    "%autoreload 2"
   ]
  },
  {
   "cell_type": "code",
   "execution_count": 3,
   "metadata": {},
   "outputs": [],
   "source": [
    "import sys\n",
    "import syft as sy\n",
    "from syft.workers.websocket_client import WebsocketClientWorker\n",
    "import torch\n",
    "from torchvision import datasets, transforms\n",
    "\n",
    "from syft.frameworks.torch.fl import utils"
   ]
  },
  {
   "cell_type": "code",
   "execution_count": 4,
   "metadata": {},
   "outputs": [],
   "source": [
    "import run_websocket_client as rwc"
   ]
  },
  {
   "cell_type": "code",
   "execution_count": 5,
   "metadata": {},
   "outputs": [
    {
     "output_type": "stream",
     "name": "stdout",
     "text": [
      "Namespace(batch_size=64, cuda=False, epochs=2, federate_after_n_batches=50, lr=0.01, save_model=False, seed=1, test_batch_size=1000, use_virtual=False, verbose=False)\n"
     ]
    }
   ],
   "source": [
    "args = rwc.define_and_get_arguments(args=args)\n",
    "use_cuda = args.cuda and torch.cuda.is_available()\n",
    "torch.manual_seed(args.seed)\n",
    "device = torch.device(\"cuda\" if use_cuda else \"cpu\")\n",
    "print(args)"
   ]
  },
  {
   "cell_type": "markdown",
   "metadata": {},
   "source": [
    "现在，让我们实例化websocket客户端工作程序，这是我们到远程工作程序的本地访问点。请注意，如果websocket服务器工作程序未在运行，则此步骤将失败。"
   ]
  },
  {
   "cell_type": "code",
   "execution_count": 6,
   "metadata": {},
   "outputs": [
    {
     "output_type": "stream",
     "name": "stdout",
     "text": [
      "[<WebsocketClientWorker id:alice #objects local:0 #objects remote: 0>, <WebsocketClientWorker id:bob #objects local:0 #objects remote: 0>, <WebsocketClientWorker id:charlie #objects local:0 #objects remote: 0>]\n"
     ]
    }
   ],
   "source": [
    "hook = sy.TorchHook(torch)\n",
    "\n",
    "kwargs_websocket = {\"host\": \"localhost\", \"hook\": hook, \"verbose\": args.verbose}\n",
    "alice = WebsocketClientWorker(id=\"alice\", port=8777, **kwargs_websocket)\n",
    "bob = WebsocketClientWorker(id=\"bob\", port=8778, **kwargs_websocket)\n",
    "charlie = WebsocketClientWorker(id=\"charlie\", port=8779, **kwargs_websocket)\n",
    "\n",
    "workers = [alice, bob, charlie]\n",
    "print(workers)\n"
   ]
  },
  {
   "cell_type": "markdown",
   "metadata": {},
   "source": [
    "## 3 准备和分发训练数据\n",
    "我们将使用MNIST数据集并将数据随机分配到工作人员上。对于联合培训设置而言，这是不现实的，因为在远程培训中，数据通常通常已经可用。\n",
    "\n",
    "我们实例化了两个FederatedDataLoader，一个用于训练，一个用于MNIST数据集的测试集。"
   ]
  },
  {
   "cell_type": "code",
   "execution_count": 7,
   "metadata": {},
   "outputs": [
    {
     "output_type": "execute_result",
     "data": {
      "text/plain": [
       "<torch.utils.data.dataloader.DataLoader at 0x23c29eadc70>"
      ]
     },
     "metadata": {},
     "execution_count": 7
    }
   ],
   "source": [
    "#run this box only if the the next box gives pipeline error\n",
    "torch.utils.data.DataLoader(\n",
    "    datasets.MNIST(\n",
    "        \"../../官方教程/data/\",\n",
    "        train=True,download=True))"
   ]
  },
  {
   "cell_type": "code",
   "execution_count": 9,
   "metadata": {},
   "outputs": [],
   "source": [
    "federated_train_loader = sy.FederatedDataLoader(\n",
    "    datasets.MNIST(\n",
    "        \"../../官方教程/data\",\n",
    "        train=True,\n",
    "        download=True,\n",
    "        transform=transforms.Compose(\n",
    "            [transforms.ToTensor(), transforms.Normalize((0.1307,), (0.3081,))]\n",
    "        ),\n",
    "    ).federate(tuple(workers)),\n",
    "    batch_size=args.batch_size,\n",
    "    shuffle=True,\n",
    "    iter_per_worker=True\n",
    ")\n",
    "\n",
    "test_loader = torch.utils.data.DataLoader(\n",
    "    datasets.MNIST(\n",
    "        \"../../官方教程/data\",\n",
    "        train=False,\n",
    "        transform=transforms.Compose(\n",
    "            [transforms.ToTensor(), transforms.Normalize((0.1307,), (0.3081,))]\n",
    "        ),\n",
    "    ),\n",
    "    batch_size=args.test_batch_size,\n",
    "    shuffle=True\n",
    ")\n"
   ]
  },
  {
   "cell_type": "markdown",
   "metadata": {},
   "source": [
    "接下来，我们需要实例化机器学习模型。这是一个具有2个卷积层和2个完全连接层的小型神经网络。它使用ReLU激活和最大池化。"
   ]
  },
  {
   "cell_type": "code",
   "execution_count": 10,
   "metadata": {},
   "outputs": [
    {
     "output_type": "stream",
     "name": "stdout",
     "text": [
      "Net(\n  (conv1): Conv2d(1, 20, kernel_size=(5, 5), stride=(1, 1))\n  (conv2): Conv2d(20, 50, kernel_size=(5, 5), stride=(1, 1))\n  (fc1): Linear(in_features=800, out_features=500, bias=True)\n  (fc2): Linear(in_features=500, out_features=10, bias=True)\n)\n"
     ]
    }
   ],
   "source": [
    "model = rwc.Net().to(device)\n",
    "print(model)"
   ]
  },
  {
   "cell_type": "code",
   "execution_count": 11,
   "metadata": {},
   "outputs": [],
   "source": [
    "import logging\n",
    "import sys\n",
    "logger = logging.getLogger()\n",
    "logger.setLevel(logging.DEBUG)\n",
    "handler = logging.StreamHandler(sys.stderr)\n",
    "formatter = logging.Formatter(\"%(asctime)s %(levelname)s %(filename)s(l:%(lineno)d) - %(message)s\")\n",
    "handler.setFormatter(formatter)\n",
    "logger.handlers = [handler]"
   ]
  },
  {
   "cell_type": "markdown",
   "metadata": {},
   "source": [
    "## 4 让我们开始训练\n",
    "现在我们准备开始联合培训。我们将分别对每个工人进行给定数量的批次培训，然后计算所得模型的联合平均值，并计算该模型的测试准确性"
   ]
  },
  {
   "cell_type": "code",
   "execution_count": 12,
   "metadata": {},
   "outputs": [
    {
     "output_type": "stream",
     "name": "stdout",
     "text": [
      "Starting epoch 1/2\n",
      "2021-05-08 07:30:49,922 DEBUG run_websocket_client.py(l:130) - Starting training round, batches [0, 50]\n",
      "2021-05-08 07:30:51,082 DEBUG run_websocket_client.py(l:72) - Train Worker alice: [0/50 (0%)]\tLoss: 2.312261\n",
      "2021-05-08 07:30:53,140 DEBUG run_websocket_client.py(l:72) - Train Worker alice: [25/50 (50%)]\tLoss: 2.254601\n",
      "2021-05-08 07:30:58,222 DEBUG run_websocket_client.py(l:72) - Train Worker bob: [0/50 (0%)]\tLoss: 2.301047\n",
      "2021-05-08 07:30:59,940 DEBUG run_websocket_client.py(l:72) - Train Worker bob: [25/50 (50%)]\tLoss: 2.247398\n",
      "2021-05-08 07:31:04,928 DEBUG run_websocket_client.py(l:72) - Train Worker charlie: [0/50 (0%)]\tLoss: 2.324203\n",
      "2021-05-08 07:31:06,843 DEBUG run_websocket_client.py(l:72) - Train Worker charlie: [25/50 (50%)]\tLoss: 2.244190\n",
      "2021-05-08 07:31:28,701 DEBUG run_websocket_client.py(l:130) - Starting training round, batches [50, 100]\n",
      "2021-05-08 07:31:29,527 DEBUG run_websocket_client.py(l:72) - Train Worker alice: [0/50 (0%)]\tLoss: 2.138325\n",
      "2021-05-08 07:31:31,377 DEBUG run_websocket_client.py(l:72) - Train Worker alice: [25/50 (50%)]\tLoss: 1.969910\n",
      "2021-05-08 07:31:36,403 DEBUG run_websocket_client.py(l:72) - Train Worker bob: [0/50 (0%)]\tLoss: 2.151269\n",
      "2021-05-08 07:31:38,178 DEBUG run_websocket_client.py(l:72) - Train Worker bob: [25/50 (50%)]\tLoss: 1.928512\n",
      "2021-05-08 07:31:43,205 DEBUG run_websocket_client.py(l:72) - Train Worker charlie: [0/50 (0%)]\tLoss: 2.153984\n",
      "2021-05-08 07:31:45,160 DEBUG run_websocket_client.py(l:72) - Train Worker charlie: [25/50 (50%)]\tLoss: 1.915180\n",
      "2021-05-08 07:32:06,354 DEBUG run_websocket_client.py(l:130) - Starting training round, batches [100, 150]\n",
      "2021-05-08 07:32:07,190 DEBUG run_websocket_client.py(l:72) - Train Worker alice: [0/50 (0%)]\tLoss: 1.458981\n",
      "2021-05-08 07:32:08,918 DEBUG run_websocket_client.py(l:72) - Train Worker alice: [25/50 (50%)]\tLoss: 1.025910\n",
      "2021-05-08 07:32:13,790 DEBUG run_websocket_client.py(l:72) - Train Worker bob: [0/50 (0%)]\tLoss: 1.516349\n",
      "2021-05-08 07:32:15,488 DEBUG run_websocket_client.py(l:72) - Train Worker bob: [25/50 (50%)]\tLoss: 1.068960\n",
      "2021-05-08 07:32:20,267 DEBUG run_websocket_client.py(l:72) - Train Worker charlie: [0/50 (0%)]\tLoss: 1.422252\n",
      "2021-05-08 07:32:21,991 DEBUG run_websocket_client.py(l:72) - Train Worker charlie: [25/50 (50%)]\tLoss: 0.936653\n",
      "2021-05-08 07:32:42,900 DEBUG run_websocket_client.py(l:130) - Starting training round, batches [150, 200]\n",
      "2021-05-08 07:32:43,715 DEBUG run_websocket_client.py(l:72) - Train Worker alice: [0/50 (0%)]\tLoss: 0.655009\n",
      "2021-05-08 07:32:45,441 DEBUG run_websocket_client.py(l:72) - Train Worker alice: [25/50 (50%)]\tLoss: 0.514669\n",
      "2021-05-08 07:32:50,506 DEBUG run_websocket_client.py(l:72) - Train Worker bob: [0/50 (0%)]\tLoss: 0.856013\n",
      "2021-05-08 07:32:52,366 DEBUG run_websocket_client.py(l:72) - Train Worker bob: [25/50 (50%)]\tLoss: 0.497991\n",
      "2021-05-08 07:32:57,283 DEBUG run_websocket_client.py(l:72) - Train Worker charlie: [0/50 (0%)]\tLoss: 0.723168\n",
      "2021-05-08 07:32:59,055 DEBUG run_websocket_client.py(l:72) - Train Worker charlie: [25/50 (50%)]\tLoss: 0.481013\n",
      "2021-05-08 07:33:20,036 DEBUG run_websocket_client.py(l:130) - Starting training round, batches [200, 250]\n",
      "2021-05-08 07:33:20,885 DEBUG run_websocket_client.py(l:72) - Train Worker alice: [0/50 (0%)]\tLoss: 0.449779\n",
      "2021-05-08 07:33:22,576 DEBUG run_websocket_client.py(l:72) - Train Worker alice: [25/50 (50%)]\tLoss: 0.745741\n",
      "2021-05-08 07:33:27,466 DEBUG run_websocket_client.py(l:72) - Train Worker bob: [0/50 (0%)]\tLoss: 0.462799\n",
      "2021-05-08 07:33:29,214 DEBUG run_websocket_client.py(l:72) - Train Worker bob: [25/50 (50%)]\tLoss: 0.429508\n",
      "2021-05-08 07:33:34,177 DEBUG run_websocket_client.py(l:72) - Train Worker charlie: [0/50 (0%)]\tLoss: 0.374787\n",
      "2021-05-08 07:33:35,898 DEBUG run_websocket_client.py(l:72) - Train Worker charlie: [25/50 (50%)]\tLoss: 0.610133\n",
      "2021-05-08 07:33:57,142 DEBUG run_websocket_client.py(l:130) - Starting training round, batches [250, 300]\n",
      "2021-05-08 07:33:57,969 DEBUG run_websocket_client.py(l:72) - Train Worker alice: [0/50 (0%)]\tLoss: 0.274819\n",
      "2021-05-08 07:33:59,728 DEBUG run_websocket_client.py(l:72) - Train Worker alice: [25/50 (50%)]\tLoss: 0.364993\n",
      "2021-05-08 07:34:04,760 DEBUG run_websocket_client.py(l:72) - Train Worker bob: [0/50 (0%)]\tLoss: 0.439275\n",
      "2021-05-08 07:34:06,597 DEBUG run_websocket_client.py(l:72) - Train Worker bob: [25/50 (50%)]\tLoss: 0.288160\n",
      "2021-05-08 07:34:11,593 DEBUG run_websocket_client.py(l:72) - Train Worker charlie: [0/50 (0%)]\tLoss: 0.301319\n",
      "2021-05-08 07:34:13,378 DEBUG run_websocket_client.py(l:72) - Train Worker charlie: [25/50 (50%)]\tLoss: 0.371563\n",
      "2021-05-08 07:34:21,885 DEBUG run_websocket_client.py(l:130) - Starting training round, batches [300, 350]\n",
      "2021-05-08 07:34:22,715 DEBUG run_websocket_client.py(l:72) - Train Worker alice: [0/13 (0%)]\tLoss: 0.238244\n",
      "2021-05-08 07:34:26,747 DEBUG run_websocket_client.py(l:72) - Train Worker bob: [0/13 (0%)]\tLoss: 0.351565\n",
      "2021-05-08 07:34:30,730 DEBUG run_websocket_client.py(l:72) - Train Worker charlie: [0/13 (0%)]\tLoss: 0.346110\n",
      "2021-05-08 07:34:34,004 DEBUG run_websocket_client.py(l:130) - Starting training round, batches [350, 400]\n",
      "2021-05-08 07:34:34,013 DEBUG run_websocket_client.py(l:142) - At least one worker ran out of data, stopping.\n",
      "2021-05-08 07:34:37,068 DEBUG run_websocket_client.py(l:166) - \n",
      "\n",
      "2021-05-08 07:34:37,069 INFO run_websocket_client.py(l:168) - Test set: Average loss: 0.3303, Accuracy: 9064/10000 (91%)\n",
      "\n",
      "Starting epoch 2/2\n",
      "2021-05-08 07:34:54,177 DEBUG run_websocket_client.py(l:130) - Starting training round, batches [0, 50]\n",
      "2021-05-08 07:34:54,991 DEBUG run_websocket_client.py(l:72) - Train Worker alice: [0/50 (0%)]\tLoss: 0.357613\n",
      "2021-05-08 07:34:56,873 DEBUG run_websocket_client.py(l:72) - Train Worker alice: [25/50 (50%)]\tLoss: 0.315697\n",
      "2021-05-08 07:35:02,034 DEBUG run_websocket_client.py(l:72) - Train Worker bob: [0/50 (0%)]\tLoss: 0.386555\n",
      "2021-05-08 07:35:03,788 DEBUG run_websocket_client.py(l:72) - Train Worker bob: [25/50 (50%)]\tLoss: 0.501474\n",
      "2021-05-08 07:35:08,634 DEBUG run_websocket_client.py(l:72) - Train Worker charlie: [0/50 (0%)]\tLoss: 0.317542\n",
      "2021-05-08 07:35:10,364 DEBUG run_websocket_client.py(l:72) - Train Worker charlie: [25/50 (50%)]\tLoss: 0.371363\n",
      "2021-05-08 07:35:31,315 DEBUG run_websocket_client.py(l:130) - Starting training round, batches [50, 100]\n",
      "2021-05-08 07:35:32,152 DEBUG run_websocket_client.py(l:72) - Train Worker alice: [0/50 (0%)]\tLoss: 0.314157\n",
      "2021-05-08 07:35:33,959 DEBUG run_websocket_client.py(l:72) - Train Worker alice: [25/50 (50%)]\tLoss: 0.273596\n",
      "2021-05-08 07:35:39,089 DEBUG run_websocket_client.py(l:72) - Train Worker bob: [0/50 (0%)]\tLoss: 0.178877\n",
      "2021-05-08 07:35:40,845 DEBUG run_websocket_client.py(l:72) - Train Worker bob: [25/50 (50%)]\tLoss: 0.249033\n",
      "2021-05-08 07:35:46,076 DEBUG run_websocket_client.py(l:72) - Train Worker charlie: [0/50 (0%)]\tLoss: 0.332668\n",
      "2021-05-08 07:35:47,875 DEBUG run_websocket_client.py(l:72) - Train Worker charlie: [25/50 (50%)]\tLoss: 0.287937\n",
      "2021-05-08 07:36:08,669 DEBUG run_websocket_client.py(l:130) - Starting training round, batches [100, 150]\n",
      "2021-05-08 07:36:09,494 DEBUG run_websocket_client.py(l:72) - Train Worker alice: [0/50 (0%)]\tLoss: 0.340244\n",
      "2021-05-08 07:36:11,351 DEBUG run_websocket_client.py(l:72) - Train Worker alice: [25/50 (50%)]\tLoss: 0.243478\n",
      "2021-05-08 07:36:16,331 DEBUG run_websocket_client.py(l:72) - Train Worker bob: [0/50 (0%)]\tLoss: 0.594652\n",
      "2021-05-08 07:36:19,380 DEBUG run_websocket_client.py(l:72) - Train Worker bob: [25/50 (50%)]\tLoss: 0.289975\n",
      "2021-05-08 07:36:24,405 DEBUG run_websocket_client.py(l:72) - Train Worker charlie: [0/50 (0%)]\tLoss: 0.301248\n",
      "2021-05-08 07:36:26,203 DEBUG run_websocket_client.py(l:72) - Train Worker charlie: [25/50 (50%)]\tLoss: 0.261488\n",
      "2021-05-08 07:36:46,982 DEBUG run_websocket_client.py(l:130) - Starting training round, batches [150, 200]\n",
      "2021-05-08 07:36:47,817 DEBUG run_websocket_client.py(l:72) - Train Worker alice: [0/50 (0%)]\tLoss: 0.298423\n",
      "2021-05-08 07:36:49,697 DEBUG run_websocket_client.py(l:72) - Train Worker alice: [25/50 (50%)]\tLoss: 0.363770\n",
      "2021-05-08 07:36:55,125 DEBUG run_websocket_client.py(l:72) - Train Worker bob: [0/50 (0%)]\tLoss: 0.277870\n",
      "2021-05-08 07:36:56,971 DEBUG run_websocket_client.py(l:72) - Train Worker bob: [25/50 (50%)]\tLoss: 0.099462\n",
      "2021-05-08 07:37:02,173 DEBUG run_websocket_client.py(l:72) - Train Worker charlie: [0/50 (0%)]\tLoss: 0.179270\n",
      "2021-05-08 07:37:03,984 DEBUG run_websocket_client.py(l:72) - Train Worker charlie: [25/50 (50%)]\tLoss: 0.250538\n",
      "2021-05-08 07:37:25,135 DEBUG run_websocket_client.py(l:130) - Starting training round, batches [200, 250]\n",
      "2021-05-08 07:37:25,980 DEBUG run_websocket_client.py(l:72) - Train Worker alice: [0/50 (0%)]\tLoss: 0.322626\n",
      "2021-05-08 07:37:27,800 DEBUG run_websocket_client.py(l:72) - Train Worker alice: [25/50 (50%)]\tLoss: 0.446016\n",
      "2021-05-08 07:37:32,884 DEBUG run_websocket_client.py(l:72) - Train Worker bob: [0/50 (0%)]\tLoss: 0.518507\n",
      "2021-05-08 07:37:34,742 DEBUG run_websocket_client.py(l:72) - Train Worker bob: [25/50 (50%)]\tLoss: 0.293078\n",
      "2021-05-08 07:37:40,028 DEBUG run_websocket_client.py(l:72) - Train Worker charlie: [0/50 (0%)]\tLoss: 0.150113\n",
      "2021-05-08 07:37:42,054 DEBUG run_websocket_client.py(l:72) - Train Worker charlie: [25/50 (50%)]\tLoss: 0.135191\n",
      "2021-05-08 07:38:03,169 DEBUG run_websocket_client.py(l:130) - Starting training round, batches [250, 300]\n",
      "2021-05-08 07:38:03,999 DEBUG run_websocket_client.py(l:72) - Train Worker alice: [0/50 (0%)]\tLoss: 0.426932\n",
      "2021-05-08 07:38:05,752 DEBUG run_websocket_client.py(l:72) - Train Worker alice: [25/50 (50%)]\tLoss: 0.170185\n",
      "2021-05-08 07:38:10,679 DEBUG run_websocket_client.py(l:72) - Train Worker bob: [0/50 (0%)]\tLoss: 0.161225\n",
      "2021-05-08 07:38:12,414 DEBUG run_websocket_client.py(l:72) - Train Worker bob: [25/50 (50%)]\tLoss: 0.264307\n",
      "2021-05-08 07:38:17,249 DEBUG run_websocket_client.py(l:72) - Train Worker charlie: [0/50 (0%)]\tLoss: 0.286649\n",
      "2021-05-08 07:38:19,006 DEBUG run_websocket_client.py(l:72) - Train Worker charlie: [25/50 (50%)]\tLoss: 0.179075\n",
      "2021-05-08 07:38:27,289 DEBUG run_websocket_client.py(l:130) - Starting training round, batches [300, 350]\n",
      "2021-05-08 07:38:28,111 DEBUG run_websocket_client.py(l:72) - Train Worker alice: [0/13 (0%)]\tLoss: 0.324086\n",
      "2021-05-08 07:38:32,056 DEBUG run_websocket_client.py(l:72) - Train Worker bob: [0/13 (0%)]\tLoss: 0.336624\n",
      "2021-05-08 07:38:35,983 DEBUG run_websocket_client.py(l:72) - Train Worker charlie: [0/13 (0%)]\tLoss: 0.220500\n",
      "2021-05-08 07:38:39,175 DEBUG run_websocket_client.py(l:130) - Starting training round, batches [350, 400]\n",
      "2021-05-08 07:38:39,184 DEBUG run_websocket_client.py(l:142) - At least one worker ran out of data, stopping.\n",
      "2021-05-08 07:38:42,194 DEBUG run_websocket_client.py(l:166) - \n",
      "\n",
      "2021-05-08 07:38:42,195 INFO run_websocket_client.py(l:168) - Test set: Average loss: 0.2021, Accuracy: 9416/10000 (94%)\n",
      "\n"
     ]
    }
   ],
   "source": [
    "for epoch in range(1, args.epochs + 1):\n",
    "    print(\"Starting epoch {}/{}\".format(epoch, args.epochs))\n",
    "    model = rwc.train(model, device, federated_train_loader, args.lr, args.federate_after_n_batches, \n",
    "                      abort_after_one=abort_after_one)\n",
    "    rwc.test(model, device, test_loader)"
   ]
  }
 ],
 "metadata": {
  "kernelspec": {
   "name": "python388jvsc74a57bd057f55249afac9e3bb90b27c0916a1d44f0a08c86299e4ac4c83ac98b0a805cf4",
   "display_name": "Python 3.8.8 64-bit ('pysyft': conda)"
  },
  "language_info": {
   "codemirror_mode": {
    "name": "ipython",
    "version": 3
   },
   "file_extension": ".py",
   "mimetype": "text/x-python",
   "name": "python",
   "nbconvert_exporter": "python",
   "pygments_lexer": "ipython3",
   "version": "3.8.8"
  }
 },
 "nbformat": 4,
 "nbformat_minor": 4
}