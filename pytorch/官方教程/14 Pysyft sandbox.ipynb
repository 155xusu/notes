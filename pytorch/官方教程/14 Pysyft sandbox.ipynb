{
 "metadata": {
  "language_info": {
   "codemirror_mode": {
    "name": "ipython",
    "version": 3
   },
   "file_extension": ".py",
   "mimetype": "text/x-python",
   "name": "python",
   "nbconvert_exporter": "python",
   "pygments_lexer": "ipython3",
   "version": "3.8.8"
  },
  "orig_nbformat": 2,
  "kernelspec": {
   "name": "python388jvsc74a57bd057f55249afac9e3bb90b27c0916a1d44f0a08c86299e4ac4c83ac98b0a805cf4",
   "display_name": "Python 3.8.8 64-bit ('pysyft': conda)"
  },
  "metadata": {
   "interpreter": {
    "hash": "57f55249afac9e3bb90b27c0916a1d44f0a08c86299e4ac4c83ac98b0a805cf4"
   }
  }
 },
 "nbformat": 4,
 "nbformat_minor": 2,
 "cells": [
  {
   "source": [
    "## 1 创建sandbox"
   ],
   "cell_type": "markdown",
   "metadata": {}
  },
  {
   "cell_type": "code",
   "execution_count": 2,
   "metadata": {},
   "outputs": [
    {
     "output_type": "stream",
     "name": "stdout",
     "text": [
      "Setting up Sandbox...\n",
      "\t- Hooking PyTorch\n",
      "\t- Creating Virtual Workers:\n",
      "\t\t- bob\n",
      "\t\t- theo\n",
      "\t\t- jason\n",
      "\t\t- alice\n",
      "\t\t- andy\n",
      "\t\t- jon\n",
      "\tStoring hook and workers as global variables...\n",
      "\tLoading datasets from SciKit Learn...\n",
      "\t\t- Boston Housing Dataset\n",
      "\t\t- Diabetes Dataset\n",
      "\t\t- Breast Cancer Dataset\n",
      "\t- Digits Dataset\n",
      "\t\t- Iris Dataset\n",
      "\t\t- Wine Dataset\n",
      "\t\t- Linnerud Dataset\n",
      "\tDistributing Datasets Amongst Workers...\n",
      "\tCollecting workers into a VirtualGrid...\n",
      "Done!\n"
     ]
    }
   ],
   "source": [
    "import torch\n",
    "import syft as sy\n",
    "sy.create_sandbox(globals())"
   ]
  },
  {
   "cell_type": "code",
   "execution_count": 4,
   "metadata": {},
   "outputs": [
    {
     "output_type": "stream",
     "name": "stdout",
     "text": [
      "[<VirtualWorker id:bob #objects:14>, <VirtualWorker id:theo #objects:14>, <VirtualWorker id:jason #objects:14>, <VirtualWorker id:alice #objects:14>, <VirtualWorker id:andy #objects:14>, <VirtualWorker id:jon #objects:14>]\n<syft.frameworks.torch.hook.hook.TorchHook object at 0x0000012DD44E2B50>\n<VirtualWorker id:bob #objects:14>\n"
     ]
    }
   ],
   "source": [
    "print(workers)\n",
    "print(hook)\n",
    "print(bob)"
   ]
  },
  {
   "source": [
    "## 2 数据集搜索功能"
   ],
   "cell_type": "markdown",
   "metadata": {}
  },
  {
   "cell_type": "code",
   "execution_count": 6,
   "metadata": {},
   "outputs": [],
   "source": [
    "x = torch.tensor([1,2,3,4,5]).tag(\"#fun\", \"#boston\", \"#housing\").describe(\"The input datapoints to the boston housing dataset.\")\n",
    "y = torch.tensor([1,2,3,4,5]).tag(\"#fun\", \"#boston\", \"#housing\").describe(\"The input datapoints to the boston housing dataset.\")\n",
    "z = torch.tensor([1,2,3,4,5]).tag(\"#fun\", \"#mnist\",).describe(\"The images in the MNIST training dataset.\")"
   ]
  },
  {
   "cell_type": "code",
   "execution_count": 7,
   "metadata": {},
   "outputs": [
    {
     "output_type": "stream",
     "name": "stdout",
     "text": [
      "tensor([1, 2, 3, 4, 5])\n\tTags: #housing #fun #boston \n\tDescription: The input datapoints to the boston housing dataset....\n\tShape: torch.Size([5])\n"
     ]
    }
   ],
   "source": [
    "print(x)"
   ]
  },
  {
   "cell_type": "code",
   "execution_count": 8,
   "metadata": {},
   "outputs": [],
   "source": [
    "x = x.send(bob)\n",
    "y = y.send(bob)\n",
    "z = z.send(bob)\n",
    "\n",
    "# this searches for exact match within a tag or within the description\n",
    "results = bob.search([\"#boston\", \"#housing\"])"
   ]
  },
  {
   "cell_type": "code",
   "execution_count": 9,
   "metadata": {},
   "outputs": [
    {
     "output_type": "stream",
     "name": "stdout",
     "text": [
      "[tensor([[6.3200e-03, 1.8000e+01, 2.3100e+00,  ..., 1.5300e+01, 3.9690e+02,\n         4.9800e+00],\n        [2.7310e-02, 0.0000e+00, 7.0700e+00,  ..., 1.7800e+01, 3.9690e+02,\n         9.1400e+00],\n        [2.7290e-02, 0.0000e+00, 7.0700e+00,  ..., 1.7800e+01, 3.9283e+02,\n         4.0300e+00],\n        ...,\n        [4.4620e-02, 2.5000e+01, 4.8600e+00,  ..., 1.9000e+01, 3.9563e+02,\n         7.2200e+00],\n        [3.6590e-02, 2.5000e+01, 4.8600e+00,  ..., 1.9000e+01, 3.9690e+02,\n         6.7200e+00],\n        [3.5510e-02, 2.5000e+01, 4.8600e+00,  ..., 1.9000e+01, 3.9064e+02,\n         7.5100e+00]])\n\tTags: #housing #data #boston_housing .. #boston _boston_dataset: \n\tDescription: .. _boston_dataset:...\n\tShape: torch.Size([84, 13]), tensor([1, 2, 3, 4, 5])\n\tTags: #housing #fun #boston \n\tDescription: The input datapoints to the boston housing dataset....\n\tShape: torch.Size([5]), tensor([1, 2, 3, 4, 5])\n\tTags: #housing #fun #boston \n\tDescription: The input datapoints to the boston housing dataset....\n\tShape: torch.Size([5]), tensor([24.0000, 21.6000, 34.7000, 33.4000, 36.2000, 28.7000, 22.9000, 27.1000,\n        16.5000, 18.9000, 15.0000, 18.9000, 21.7000, 20.4000, 18.2000, 19.9000,\n        23.1000, 17.5000, 20.2000, 18.2000, 13.6000, 19.6000, 15.2000, 14.5000,\n        15.6000, 13.9000, 16.6000, 14.8000, 18.4000, 21.0000, 12.7000, 14.5000,\n        13.2000, 13.1000, 13.5000, 18.9000, 20.0000, 21.0000, 24.7000, 30.8000,\n        34.9000, 26.6000, 25.3000, 24.7000, 21.2000, 19.3000, 20.0000, 16.6000,\n        14.4000, 19.4000, 19.7000, 20.5000, 25.0000, 23.4000, 18.9000, 35.4000,\n        24.7000, 31.6000, 23.3000, 19.6000, 18.7000, 16.0000, 22.2000, 25.0000,\n        33.0000, 23.5000, 19.4000, 22.0000, 17.4000, 20.9000, 24.2000, 21.7000,\n        22.8000, 23.4000, 24.1000, 21.4000, 20.0000, 20.8000, 21.2000, 20.3000,\n        28.0000, 23.9000, 24.8000, 22.9000])\n\tTags: #target #housing #boston_housing .. #boston _boston_dataset: \n\tDescription: .. _boston_dataset:...\n\tShape: torch.Size([84])]\n"
     ]
    }
   ],
   "source": [
    "print(results)"
   ]
  },
  {
   "cell_type": "code",
   "execution_count": 10,
   "metadata": {},
   "outputs": [
    {
     "output_type": "stream",
     "name": "stdout",
     "text": [
      "<bound method AbstractObject.describe of tensor([[6.3200e-03, 1.8000e+01, 2.3100e+00,  ..., 1.5300e+01, 3.9690e+02,\n         4.9800e+00],\n        [2.7310e-02, 0.0000e+00, 7.0700e+00,  ..., 1.7800e+01, 3.9690e+02,\n         9.1400e+00],\n        [2.7290e-02, 0.0000e+00, 7.0700e+00,  ..., 1.7800e+01, 3.9283e+02,\n         4.0300e+00],\n        ...,\n        [4.4620e-02, 2.5000e+01, 4.8600e+00,  ..., 1.9000e+01, 3.9563e+02,\n         7.2200e+00],\n        [3.6590e-02, 2.5000e+01, 4.8600e+00,  ..., 1.9000e+01, 3.9690e+02,\n         6.7200e+00],\n        [3.5510e-02, 2.5000e+01, 4.8600e+00,  ..., 1.9000e+01, 3.9064e+02,\n         7.5100e+00]])\n\tTags: #housing #data #boston_housing .. #boston _boston_dataset: \n\tDescription: .. _boston_dataset:...\n\tShape: torch.Size([84, 13])>\n"
     ]
    }
   ],
   "source": [
    "print(results[0].describe)"
   ]
  },
  {
   "source": [
    "## 3 虚拟网格\n",
    "\n",
    "网格只是工作人员的集合，为您要将数据集放在一起时提供了一些便捷功能。"
   ],
   "cell_type": "markdown",
   "metadata": {}
  },
  {
   "cell_type": "code",
   "execution_count": 11,
   "metadata": {},
   "outputs": [
    {
     "output_type": "stream",
     "name": "stdout",
     "text": [
      "{'bob': [(Wrapper)>[PointerTensor | me:92293275269 -> bob:47788767151]\n\tTags: .. #boston _boston_dataset: #target #housing #boston_housing \n\tShape: torch.Size([84])\n\tDescription: .. _boston_dataset:...], 'theo': [(Wrapper)>[PointerTensor | me:35544867868 -> theo:34457620693]\n\tTags: .. #boston _boston_dataset: #target #housing #boston_housing \n\tShape: torch.Size([84])\n\tDescription: .. _boston_dataset:...], 'jason': [(Wrapper)>[PointerTensor | me:81365469339 -> jason:15167770837]\n\tTags: .. #boston _boston_dataset: #target #housing #boston_housing \n\tShape: torch.Size([84])\n\tDescription: .. _boston_dataset:...], 'alice': [(Wrapper)>[PointerTensor | me:66469100711 -> alice:93240075334]\n\tTags: .. #boston _boston_dataset: #target #housing #boston_housing \n\tShape: torch.Size([84])\n\tDescription: .. _boston_dataset:...], 'andy': [(Wrapper)>[PointerTensor | me:37370447686 -> andy:37274546577]\n\tTags: .. #boston _boston_dataset: #target #housing #boston_housing \n\tShape: torch.Size([84])\n\tDescription: .. _boston_dataset:...], 'jon': [(Wrapper)>[PointerTensor | me:26110954914 -> jon:9765914045]\n\tTags: .. #boston _boston_dataset: #target #housing #boston_housing \n\tShape: torch.Size([86])\n\tDescription: .. _boston_dataset:...]}\n"
     ]
    }
   ],
   "source": [
    "grid = sy.PrivateGridNetwork(*workers)\n",
    "results = grid.search(\"#boston\")\n",
    "boston_data = grid.search(\"#boston\",\"#data\")\n",
    "boston_target = grid.search(\"#boston\",\"#target\")\n",
    "\n",
    "print(boston_target)"
   ]
  },
  {
   "cell_type": "code",
   "execution_count": null,
   "metadata": {},
   "outputs": [],
   "source": []
  }
 ]
}