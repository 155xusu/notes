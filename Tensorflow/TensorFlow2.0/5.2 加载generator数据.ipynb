{
 "metadata": {
  "language_info": {
   "codemirror_mode": {
    "name": "ipython",
    "version": 3
   },
   "file_extension": ".py",
   "mimetype": "text/x-python",
   "name": "python",
   "nbconvert_exporter": "python",
   "pygments_lexer": "ipython3",
   "version": "3.8.8-final"
  },
  "orig_nbformat": 2,
  "kernelspec": {
   "name": "python388jvsc74a57bd05ef0042cb263260037aa2928643ae94e240dd3afaec7872ebebe4f07619ddd0c",
   "display_name": "Python 3.8.8 64-bit ('ml': conda)"
  }
 },
 "nbformat": 4,
 "nbformat_minor": 2,
 "cells": [
  {
   "source": [
    "# 使用 Python generator 加载数据"
   ],
   "cell_type": "markdown",
   "metadata": {}
  },
  {
   "cell_type": "code",
   "execution_count": 2,
   "metadata": {},
   "outputs": [],
   "source": [
    "import tensorflow as tf"
   ]
  },
  {
   "cell_type": "code",
   "execution_count": 8,
   "metadata": {},
   "outputs": [],
   "source": [
    "def count(stop):\n",
    "  i = 0\n",
    "  while i<stop:\n",
    "    yield i,i+1,i+2\n",
    "    i += 1"
   ]
  },
  {
   "cell_type": "code",
   "execution_count": 11,
   "metadata": {},
   "outputs": [],
   "source": [
    "ds_counter = tf.data.Dataset.from_generator(count, args=[25], output_types=tf.int32, output_shapes = (3,),)"
   ]
  },
  {
   "cell_type": "code",
   "execution_count": 12,
   "metadata": {},
   "outputs": [
    {
     "output_type": "stream",
     "name": "stdout",
     "text": [
      "[[ 0  1  2]\n [ 1  2  3]\n [ 2  3  4]\n [ 3  4  5]\n [ 4  5  6]\n [ 5  6  7]\n [ 6  7  8]\n [ 7  8  9]\n [ 8  9 10]\n [ 9 10 11]]\n[[10 11 12]\n [11 12 13]\n [12 13 14]\n [13 14 15]\n [14 15 16]\n [15 16 17]\n [16 17 18]\n [17 18 19]\n [18 19 20]\n [19 20 21]]\n[[20 21 22]\n [21 22 23]\n [22 23 24]\n [23 24 25]\n [24 25 26]\n [ 0  1  2]\n [ 1  2  3]\n [ 2  3  4]\n [ 3  4  5]\n [ 4  5  6]]\n[[ 5  6  7]\n [ 6  7  8]\n [ 7  8  9]\n [ 8  9 10]\n [ 9 10 11]\n [10 11 12]\n [11 12 13]\n [12 13 14]\n [13 14 15]\n [14 15 16]]\n[[15 16 17]\n [16 17 18]\n [17 18 19]\n [18 19 20]\n [19 20 21]\n [20 21 22]\n [21 22 23]\n [22 23 24]\n [23 24 25]\n [24 25 26]]\n[[ 0  1  2]\n [ 1  2  3]\n [ 2  3  4]\n [ 3  4  5]\n [ 4  5  6]\n [ 5  6  7]\n [ 6  7  8]\n [ 7  8  9]\n [ 8  9 10]\n [ 9 10 11]]\n[[10 11 12]\n [11 12 13]\n [12 13 14]\n [13 14 15]\n [14 15 16]\n [15 16 17]\n [16 17 18]\n [17 18 19]\n [18 19 20]\n [19 20 21]]\n[[20 21 22]\n [21 22 23]\n [22 23 24]\n [23 24 25]\n [24 25 26]\n [ 0  1  2]\n [ 1  2  3]\n [ 2  3  4]\n [ 3  4  5]\n [ 4  5  6]]\n[[ 5  6  7]\n [ 6  7  8]\n [ 7  8  9]\n [ 8  9 10]\n [ 9 10 11]\n [10 11 12]\n [11 12 13]\n [12 13 14]\n [13 14 15]\n [14 15 16]]\n[[15 16 17]\n [16 17 18]\n [17 18 19]\n [18 19 20]\n [19 20 21]\n [20 21 22]\n [21 22 23]\n [22 23 24]\n [23 24 25]\n [24 25 26]]\n"
     ]
    }
   ],
   "source": [
    "for count_batch in ds_counter.repeat().batch(10).take(10):\n",
    "  print(count_batch.numpy())"
   ]
  },
  {
   "source": [
    "## 使用Python生成器解决多个文件加载的问题。\n",
    "\n",
    "考虑是否要用这种方式，加载Python生成器中的多个数据。"
   ],
   "cell_type": "markdown",
   "metadata": {}
  }
 ]
}